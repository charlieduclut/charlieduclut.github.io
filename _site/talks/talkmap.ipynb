{
 "cells": [
  {
   "cell_type": "markdown",
   "metadata": {},
   "source": [
    "# Leaflet cluster map of talk locations\n",
    "\n",
    "Run this from the _talks/ directory, which contains .md files of all your talks. This scrapes the location YAML field from each .md file, geolocates it with geopy/Nominatim, and uses the getorg library to output data, HTML, and Javascript for a standalone cluster map."
   ]
  },
  {
   "cell_type": "code",
   "execution_count": 1,
   "metadata": {
    "ExecuteTime": {
     "end_time": "2021-09-19T18:59:46.810082Z",
     "start_time": "2021-09-19T18:59:34.829478Z"
    }
   },
   "outputs": [
    {
     "name": "stdout",
     "output_type": "stream",
     "text": [
      "Collecting getorg\n",
      "  Downloading https://files.pythonhosted.org/packages/d8/81/842a17df2892d8f357929a3a937d30f36bd11998b31b75e663515e24bf50/getorg-0.3.1-py2.py3-none-any.whl\n",
      "Collecting pygithub (from getorg)\n",
      "\u001b[?25l  Downloading https://files.pythonhosted.org/packages/c1/1f/9dc4ba315eeea222473cf4c15d3e665f32d52f859d9d6e73219d0a408969/PyGithub-1.55-py3-none-any.whl (291kB)\n",
      "\u001b[K     |████████████████████████████████| 296kB 686kB/s eta 0:00:01\n",
      "\u001b[?25hCollecting retrying (from getorg)\n",
      "  Downloading https://files.pythonhosted.org/packages/44/ef/beae4b4ef80902f22e3af073397f079c96969c69b2c7d52a57ea9ae61c9d/retrying-1.3.3.tar.gz\n",
      "Collecting geopy (from getorg)\n",
      "\u001b[?25l  Downloading https://files.pythonhosted.org/packages/e1/e1/45f25e3d3acf26782888f847de7c958a2807a039210fb1016cc3fb9555c4/geopy-2.2.0-py3-none-any.whl (118kB)\n",
      "\u001b[K     |████████████████████████████████| 122kB 777kB/s eta 0:00:01    |█████████████▉                  | 51kB 502kB/s eta 0:00:01\n",
      "\u001b[?25hCollecting pynacl>=1.4.0 (from pygithub->getorg)\n",
      "\u001b[?25l  Downloading https://files.pythonhosted.org/packages/d4/68/a84e1cc99e4b08f857f148ba5ff6653afb954e121e8362c7a6242d8755ef/PyNaCl-1.4.0-cp35-abi3-macosx_10_10_x86_64.whl (380kB)\n",
      "\u001b[K     |████████████████████████████████| 389kB 916kB/s eta 0:00:01     |█████████████████████████       | 296kB 916kB/s eta 0:00:01\n",
      "\u001b[?25hRequirement already satisfied, skipping upgrade: requests>=2.14.0 in /anaconda3/lib/python3.7/site-packages (from pygithub->getorg) (2.22.0)\n",
      "Collecting deprecated (from pygithub->getorg)\n",
      "  Downloading https://files.pythonhosted.org/packages/51/6a/c3a0408646408f7283b7bc550c30a32cc791181ec4618592eec13e066ce3/Deprecated-1.2.13-py2.py3-none-any.whl\n",
      "Collecting pyjwt>=2.0 (from pygithub->getorg)\n",
      "  Downloading https://files.pythonhosted.org/packages/3f/32/d5d3cab27fee7f6b22d7cd7507547ae45d52e26030fa77d1f83d0526c6e5/PyJWT-2.1.0-py3-none-any.whl\n",
      "Requirement already satisfied, skipping upgrade: six>=1.7.0 in /anaconda3/lib/python3.7/site-packages (from retrying->getorg) (1.12.0)\n",
      "Collecting geographiclib<2,>=1.49 (from geopy->getorg)\n",
      "  Downloading https://files.pythonhosted.org/packages/df/60/d1d4c4944f9726228faa80fbe2206c8ddfd9757791b2de2facb8818c5d74/geographiclib-1.52-py3-none-any.whl\n",
      "Requirement already satisfied, skipping upgrade: cffi>=1.4.1 in /anaconda3/lib/python3.7/site-packages (from pynacl>=1.4.0->pygithub->getorg) (1.12.3)\n",
      "Requirement already satisfied, skipping upgrade: chardet<3.1.0,>=3.0.2 in /anaconda3/lib/python3.7/site-packages (from requests>=2.14.0->pygithub->getorg) (3.0.4)\n",
      "Requirement already satisfied, skipping upgrade: idna<2.9,>=2.5 in /anaconda3/lib/python3.7/site-packages (from requests>=2.14.0->pygithub->getorg) (2.8)\n",
      "Requirement already satisfied, skipping upgrade: urllib3!=1.25.0,!=1.25.1,<1.26,>=1.21.1 in /anaconda3/lib/python3.7/site-packages (from requests>=2.14.0->pygithub->getorg) (1.24.2)\n",
      "Requirement already satisfied, skipping upgrade: certifi>=2017.4.17 in /anaconda3/lib/python3.7/site-packages (from requests>=2.14.0->pygithub->getorg) (2019.6.16)\n",
      "Requirement already satisfied, skipping upgrade: wrapt<2,>=1.10 in /anaconda3/lib/python3.7/site-packages (from deprecated->pygithub->getorg) (1.11.2)\n",
      "Requirement already satisfied, skipping upgrade: pycparser in /anaconda3/lib/python3.7/site-packages (from cffi>=1.4.1->pynacl>=1.4.0->pygithub->getorg) (2.19)\n",
      "Building wheels for collected packages: retrying\n",
      "  Building wheel for retrying (setup.py) ... \u001b[?25ldone\n",
      "\u001b[?25h  Stored in directory: /Users/duclut/Library/Caches/pip/wheels/d7/a9/33/acc7b709e2a35caa7d4cae442f6fe6fbf2c43f80823d46460c\n",
      "Successfully built retrying\n",
      "Installing collected packages: pynacl, deprecated, pyjwt, pygithub, retrying, geographiclib, geopy, getorg\n",
      "Successfully installed deprecated-1.2.13 geographiclib-1.52 geopy-2.2.0 getorg-0.3.1 pygithub-1.55 pyjwt-2.1.0 pynacl-1.4.0 retrying-1.3.3\n",
      "Iywidgets and ipyleaflet support disabled. You must be in a Jupyter notebook to use this feature.\n",
      "Error raised:\n",
      "No module named 'ipyleaflet'\n",
      "Check that you have enabled ipyleaflet in Jupyter with:\n",
      "    jupyter nbextension enable --py ipyleaflet\n"
     ]
    }
   ],
   "source": [
    "!pip install getorg --upgrade\n",
    "import glob\n",
    "import getorg\n",
    "from geopy import Nominatim"
   ]
  },
  {
   "cell_type": "code",
   "execution_count": 2,
   "metadata": {
    "ExecuteTime": {
     "end_time": "2021-09-19T19:00:03.853485Z",
     "start_time": "2021-09-19T19:00:03.847156Z"
    }
   },
   "outputs": [],
   "source": [
    "g = glob.glob(\"*.md\")"
   ]
  },
  {
   "cell_type": "code",
   "execution_count": 5,
   "metadata": {
    "ExecuteTime": {
     "end_time": "2021-09-19T19:04:25.537503Z",
     "start_time": "2021-09-19T19:04:25.527979Z"
    }
   },
   "outputs": [],
   "source": [
    "geocoder = Nominatim(user_agent=\"catuserbot\")\n",
    "location_dict = {}\n",
    "location = \"\"\n",
    "permalink = \"\"\n",
    "title = \"\""
   ]
  },
  {
   "cell_type": "code",
   "execution_count": 6,
   "metadata": {
    "ExecuteTime": {
     "end_time": "2021-09-19T19:04:41.446596Z",
     "start_time": "2021-09-19T19:04:28.594334Z"
    }
   },
   "outputs": [
    {
     "name": "stdout",
     "output_type": "stream",
     "text": [
      "online conference \n",
      " None\n",
      "online conference \n",
      " None\n",
      "Les Houches, France \n",
      " Les Houches, Bonneville, Haute-Savoie, Auvergne-Rhône-Alpes, France métropolitaine, 74310, France\n",
      "Santa Fe, New Mexico, USA \n",
      " Santa Fe, Santa Fe County, New Mexico, United States\n",
      "Saarland Universität, Saarbrücken, Germany \n",
      " Universität des Saarlandes, L 252, Universität, Sankt Johann, Bezirk Mitte, Saarbrücken, Regionalverband Saarbrücken, Saarland, 66123, Deutschland\n",
      "EMBL, Heidelberg, Germany \n",
      " EMBL, Meyerhofstraße, Rohrbach, Heidelberg, Baden-Württemberg, 69117, Deutschland\n",
      "Max Planck Institute for the Physics of Complex Systems, Dresden, Germany \n",
      " Max-Planck-Institut für Physik komplexer Systeme, 38, Nöthnitzer Straße, Räcknitz/Zschertnitz, Plauen, Dresden, Sachsen, 01187, Deutschland\n",
      "École Normale Supérieure de Lyon, Lyon, France \n",
      " École Normale Supérieure de Lyon - Site Jacques Monod, Rue de Saint-Cloud, Gerland, Lyon 7e Arrondissement, Lyon, Métropole de Lyon, Circonscription départementale du Rhône, Auvergne-Rhône-Alpes, France métropolitaine, 69007, France\n",
      "Max Planck Institute for the Physics of Complex Systems, Dresden, Germany \n",
      " Max-Planck-Institut für Physik komplexer Systeme, 38, Nöthnitzer Straße, Räcknitz/Zschertnitz, Plauen, Dresden, Sachsen, 01187, Deutschland\n",
      "Aix-Marseille Université, Marseille, France \n",
      " Aix-Marseille Université, Esplanade du Pharo, Le Pharo, 7e Arrondissement, Marseille, Bouches-du-Rhône, Provence-Alpes-Côte d'Azur, France métropolitaine, 13007, France\n",
      "Kloster Seeon, Munich, Germany \n",
      " Kloster-Seeon-Straße, Forstenried, Thalkirchen-Obersendling-Forstenried-Fürstenried-Solln, München, Bayern, 81476, Deutschland\n",
      " ESPCI, Paris, France \n",
      " ESPCI Paris - Université PSL, 10, Rue Vauquelin, Faubourg Saint-Jacques, Quartier du Val-de-Grâce, Paris 5e Arrondissement, Paris, France métropolitaine, 75005, France\n",
      "Université Paris-Orsay, Orsay, France \n",
      " Université Paris-Saclay, Avenue des Sciences, Campus Urbain de Paris-Saclay, Orsay, Gif-sur-Yvette, Palaiseau, Essonne, France métropolitaine, 91400, France\n",
      "Beg Rohu, France \n",
      " Beg Rohu, Le Petit Rohu, Saint-Pierre-Quiberon, Lorient, Morbihan, Bretagne, France métropolitaine, 56510, France\n",
      "Université de Paris, Paris, France \n",
      " Université de Paris, Rue Elsa Morante, Quartier de la Gare, Paris 13e Arrondissement, Paris, France métropolitaine, 75013, France\n",
      "Technische Universität Berlin, Berlin, Germany \n",
      " Technische Universität Berlin, Agricolastraße, Moabit, Mitte, Berlin, 10555, Deutschland\n",
      "Regensburg Universität,  Regensburg, Germany \n",
      " Regensburg-Universität, A 3, Neuprüll, Regensburg, Bayern, 93053, Deutschland\n",
      "online conference \n",
      " None\n",
      "online conference \n",
      " None\n",
      "Sorbonne Université, Paris, France  \n",
      " Sorbonne Université, 27, Rue Chaligny, Quartier des Quinze-Vingts, Paris 12e Arrondissement, Paris, Île-de-France, France métropolitaine, 75011, France\n",
      "École Normale Supérieure de Lyon, Lyon, France \n",
      " École Normale Supérieure de Lyon - Site Jacques Monod, Rue de Saint-Cloud, Gerland, Lyon 7e Arrondissement, Lyon, Métropole de Lyon, Circonscription départementale du Rhône, Auvergne-Rhône-Alpes, France métropolitaine, 69007, France\n",
      "Université Grenoble-Alpes, Grenoble, France \n",
      " Université Grenoble Alpes, Rue de la Piscine, Domaine universitaire de Grenoble, Saint-Martin-d'Hères, Gières, Auvergne-Rhône-Alpes, France métropolitaine, France\n",
      "Université Grenoble-Alpes, Grenoble, France \n",
      " Université Grenoble Alpes, Rue de la Piscine, Domaine universitaire de Grenoble, Saint-Martin-d'Hères, Gières, Auvergne-Rhône-Alpes, France métropolitaine, France\n",
      "Dresden, Germany \n",
      " Dresden, Sachsen, Deutschland\n",
      "Sorbonne Université, Paris, France \n",
      " Sorbonne Université, 27, Rue Chaligny, Quartier des Quinze-Vingts, Paris 12e Arrondissement, Paris, Île-de-France, France métropolitaine, 75011, France\n",
      "online conference \n",
      " None\n"
     ]
    }
   ],
   "source": [
    "\n",
    "for file in g:\n",
    "    with open(file, 'r') as f:\n",
    "        lines = f.read()\n",
    "        if lines.find('location: \"') > 1:\n",
    "            loc_start = lines.find('location: \"') + 11\n",
    "            lines_trim = lines[loc_start:]\n",
    "            loc_end = lines_trim.find('\"')\n",
    "            location = lines_trim[:loc_end]\n",
    "                            \n",
    "           \n",
    "        location_dict[location] = geocoder.geocode(location)\n",
    "        print(location, \"\\n\", location_dict[location])\n"
   ]
  },
  {
   "cell_type": "code",
   "execution_count": 7,
   "metadata": {
    "ExecuteTime": {
     "end_time": "2021-09-19T19:04:51.873418Z",
     "start_time": "2021-09-19T19:04:51.850597Z"
    }
   },
   "outputs": [
    {
     "data": {
      "text/plain": [
       "'Written map to ../talkmap/'"
      ]
     },
     "execution_count": 7,
     "metadata": {},
     "output_type": "execute_result"
    }
   ],
   "source": [
    "m = getorg.orgmap.create_map_obj()\n",
    "getorg.orgmap.output_html_cluster_map(location_dict, folder_name=\"../talkmap\", hashed_usernames=False)"
   ]
  },
  {
   "cell_type": "code",
   "execution_count": null,
   "metadata": {
    "collapsed": true
   },
   "outputs": [],
   "source": []
  }
 ],
 "metadata": {
  "anaconda-cloud": {},
  "kernelspec": {
   "display_name": "Python 3",
   "language": "python",
   "name": "python3"
  },
  "language_info": {
   "codemirror_mode": {
    "name": "ipython",
    "version": 3
   },
   "file_extension": ".py",
   "mimetype": "text/x-python",
   "name": "python",
   "nbconvert_exporter": "python",
   "pygments_lexer": "ipython3",
   "version": "3.7.3"
  },
  "latex_envs": {
   "LaTeX_envs_menu_present": true,
   "autoclose": false,
   "autocomplete": true,
   "bibliofile": "biblio.bib",
   "cite_by": "apalike",
   "current_citInitial": 1,
   "eqLabelWithNumbers": true,
   "eqNumInitial": 1,
   "hotkeys": {
    "equation": "Ctrl-E",
    "itemize": "Ctrl-I"
   },
   "labels_anchors": false,
   "latex_user_defs": false,
   "report_style_numbering": false,
   "user_envs_cfg": false
  }
 },
 "nbformat": 4,
 "nbformat_minor": 1
}
